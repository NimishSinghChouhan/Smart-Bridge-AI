{
  "nbformat": 4,
  "nbformat_minor": 0,
  "metadata": {
    "colab": {
      "provenance": [],
      "authorship_tag": "ABX9TyNWbRao75N5L0dtCitrGdO5",
      "include_colab_link": true
    },
    "kernelspec": {
      "name": "python3",
      "display_name": "Python 3"
    },
    "language_info": {
      "name": "python"
    }
  },
  "cells": [
    {
      "cell_type": "markdown",
      "metadata": {
        "id": "view-in-github",
        "colab_type": "text"
      },
      "source": [
        "<a href=\"https://colab.research.google.com/github/NimishSinghChouhan/Smart-Bridge-AI/blob/main/SmartBridge_AI.ipynb\" target=\"_parent\"><img src=\"https://colab.research.google.com/assets/colab-badge.svg\" alt=\"Open In Colab\"/></a>"
      ]
    },
    {
      "cell_type": "code",
      "execution_count": 4,
      "metadata": {
        "colab": {
          "base_uri": "https://localhost:8080/"
        },
        "id": "Q7SQ-eA3wYe9",
        "outputId": "3c1f517f-6fd7-4f0e-b4f2-b293a1ea59dd"
      },
      "outputs": [
        {
          "output_type": "execute_result",
          "data": {
            "text/plain": [
              "{1: 'Hari', 2: 'Smartbridge', 3: 'VIT'}"
            ]
          },
          "metadata": {},
          "execution_count": 4
        }
      ],
      "source": [
        "# Dictionary [values],(values),{values},{key:values}\n",
        "# After colon we have values\n",
        "dict_1 = {1:'Hari',\n",
        "          2:'Smartbridge',\n",
        "          3:'VIT'}\n",
        "dict_1"
      ]
    },
    {
      "cell_type": "code",
      "source": [
        "type(dict_1)"
      ],
      "metadata": {
        "colab": {
          "base_uri": "https://localhost:8080/"
        },
        "id": "nKHjQs7zw6kW",
        "outputId": "d9017e82-6705-46a7-bb1a-9e75a353184c"
      },
      "execution_count": 5,
      "outputs": [
        {
          "output_type": "execute_result",
          "data": {
            "text/plain": [
              "dict"
            ]
          },
          "metadata": {},
          "execution_count": 5
        }
      ]
    },
    {
      "cell_type": "code",
      "source": [
        "set1={'Hari','Smartbridge','VIT'}\n",
        "set1\n"
      ],
      "metadata": {
        "colab": {
          "base_uri": "https://localhost:8080/"
        },
        "id": "zJuvlTfYw-Ta",
        "outputId": "25caaab8-90d8-4579-e7ef-7922ef0f0249"
      },
      "execution_count": 6,
      "outputs": [
        {
          "output_type": "execute_result",
          "data": {
            "text/plain": [
              "{'Hari', 'Smartbridge', 'VIT'}"
            ]
          },
          "metadata": {},
          "execution_count": 6
        }
      ]
    },
    {
      "cell_type": "code",
      "source": [
        "type(set1)"
      ],
      "metadata": {
        "colab": {
          "base_uri": "https://localhost:8080/"
        },
        "id": "bc2ZqsO4xUIu",
        "outputId": "793b53fc-2e64-40fd-e823-9ba5b20f4f5a"
      },
      "execution_count": 7,
      "outputs": [
        {
          "output_type": "execute_result",
          "data": {
            "text/plain": [
              "set"
            ]
          },
          "metadata": {},
          "execution_count": 7
        }
      ]
    },
    {
      "cell_type": "code",
      "source": [
        "dict_1 = {1:['Hari', 'Dev'],        #Only 1 key can be assigned\n",
        "          2:'Smartbridge',\n",
        "          3:'VIT'}\n",
        "dict_1"
      ],
      "metadata": {
        "colab": {
          "base_uri": "https://localhost:8080/"
        },
        "id": "qg5NQiJZxX4F",
        "outputId": "d255539f-048a-4877-b920-62fb6cea505c"
      },
      "execution_count": 8,
      "outputs": [
        {
          "output_type": "execute_result",
          "data": {
            "text/plain": [
              "{1: ['Hari', 'Dev'], 2: 'Smartbridge', 3: 'VIT'}"
            ]
          },
          "metadata": {},
          "execution_count": 8
        }
      ]
    },
    {
      "cell_type": "code",
      "source": [
        "dict_1.keys()"
      ],
      "metadata": {
        "colab": {
          "base_uri": "https://localhost:8080/"
        },
        "id": "5Zr5_IKoxpkZ",
        "outputId": "6d58af19-2001-4467-adf1-7f2ffdb1acf9"
      },
      "execution_count": 9,
      "outputs": [
        {
          "output_type": "execute_result",
          "data": {
            "text/plain": [
              "dict_keys([1, 2, 3])"
            ]
          },
          "metadata": {},
          "execution_count": 9
        }
      ]
    },
    {
      "cell_type": "code",
      "source": [
        "dict_1.values()"
      ],
      "metadata": {
        "colab": {
          "base_uri": "https://localhost:8080/"
        },
        "id": "v9eb9U0hzNmO",
        "outputId": "4e10efe2-0fa9-4efe-cfa3-02e0472da1f1"
      },
      "execution_count": 10,
      "outputs": [
        {
          "output_type": "execute_result",
          "data": {
            "text/plain": [
              "dict_values([['Hari', 'Dev'], 'Smartbridge', 'VIT'])"
            ]
          },
          "metadata": {},
          "execution_count": 10
        }
      ]
    },
    {
      "cell_type": "code",
      "source": [
        "dict_1.items()"
      ],
      "metadata": {
        "colab": {
          "base_uri": "https://localhost:8080/"
        },
        "id": "kybt62kezTuY",
        "outputId": "ebb2d0f1-f311-41e8-8556-170bdf675e18"
      },
      "execution_count": 11,
      "outputs": [
        {
          "output_type": "execute_result",
          "data": {
            "text/plain": [
              "dict_items([(1, ['Hari', 'Dev']), (2, 'Smartbridge'), (3, 'VIT')])"
            ]
          },
          "metadata": {},
          "execution_count": 11
        }
      ]
    },
    {
      "cell_type": "code",
      "source": [
        "dict_1[1]"
      ],
      "metadata": {
        "colab": {
          "base_uri": "https://localhost:8080/"
        },
        "id": "oaH3M8lzzrsW",
        "outputId": "220efa74-0da8-4d58-cb4f-d2704c27c17c"
      },
      "execution_count": 12,
      "outputs": [
        {
          "output_type": "execute_result",
          "data": {
            "text/plain": [
              "['Hari', 'Dev']"
            ]
          },
          "metadata": {},
          "execution_count": 12
        }
      ]
    },
    {
      "cell_type": "code",
      "source": [
        "dict_1[1]='Mahi'"
      ],
      "metadata": {
        "id": "MywRlMAiz0Si"
      },
      "execution_count": 13,
      "outputs": []
    },
    {
      "cell_type": "code",
      "source": [
        "dict_1"
      ],
      "metadata": {
        "colab": {
          "base_uri": "https://localhost:8080/"
        },
        "id": "0KCptdGE0Izt",
        "outputId": "f2a11485-a255-466f-b2db-961599acf0de"
      },
      "execution_count": 14,
      "outputs": [
        {
          "output_type": "execute_result",
          "data": {
            "text/plain": [
              "{1: 'Mahi', 2: 'Smartbridge', 3: 'VIT'}"
            ]
          },
          "metadata": {},
          "execution_count": 14
        }
      ]
    },
    {
      "cell_type": "code",
      "source": [
        "dict_1 ={'Name':['Hari','Dev'],\n",
        "         'Org':'Smartbridge',\n",
        "         'Org':'VIT'}\n",
        "dict_1"
      ],
      "metadata": {
        "colab": {
          "base_uri": "https://localhost:8080/"
        },
        "id": "cYNW5Lzi0Wds",
        "outputId": "d0caf03e-fcf5-430b-e7dd-eb05071efbd4"
      },
      "execution_count": 15,
      "outputs": [
        {
          "output_type": "execute_result",
          "data": {
            "text/plain": [
              "{'Name': ['Hari', 'Dev'], 'Org': 'VIT'}"
            ]
          },
          "metadata": {},
          "execution_count": 15
        }
      ]
    },
    {
      "cell_type": "code",
      "source": [
        "dict_1 ={'Name':['Hari','Dev','Saumya','Shivam','Hari'],\n",
        "         'Org':'Smartbridge',\n",
        "         'Org':'VIT'}\n",
        "\n",
        "dict_1"
      ],
      "metadata": {
        "colab": {
          "base_uri": "https://localhost:8080/"
        },
        "id": "wSeWdnbN1CEb",
        "outputId": "0574f1c9-2b8f-45db-b2eb-25d8f7345657"
      },
      "execution_count": 16,
      "outputs": [
        {
          "output_type": "execute_result",
          "data": {
            "text/plain": [
              "{'Name': ['Hari', 'Dev', 'Saumya', 'Shivam', 'Hari'], 'Org': 'VIT'}"
            ]
          },
          "metadata": {},
          "execution_count": 16
        }
      ]
    },
    {
      "cell_type": "code",
      "source": [
        "type(dict_1['Name'])"
      ],
      "metadata": {
        "colab": {
          "base_uri": "https://localhost:8080/"
        },
        "id": "d6KbeLmI199H",
        "outputId": "8659c9f4-7ddd-48c1-97fd-9ebce4da100c"
      },
      "execution_count": 17,
      "outputs": [
        {
          "output_type": "execute_result",
          "data": {
            "text/plain": [
              "list"
            ]
          },
          "metadata": {},
          "execution_count": 17
        }
      ]
    },
    {
      "cell_type": "code",
      "source": [
        "dict_1['Name'][1:4]"
      ],
      "metadata": {
        "colab": {
          "base_uri": "https://localhost:8080/"
        },
        "id": "g3gRm63_2EBD",
        "outputId": "2b5ca88b-2268-455b-d70f-3c4fab176503"
      },
      "execution_count": 18,
      "outputs": [
        {
          "output_type": "execute_result",
          "data": {
            "text/plain": [
              "['Dev', 'Saumya', 'Shivam']"
            ]
          },
          "metadata": {},
          "execution_count": 18
        }
      ]
    },
    {
      "cell_type": "code",
      "source": [
        "dict_1['Name'][-2:]"
      ],
      "metadata": {
        "colab": {
          "base_uri": "https://localhost:8080/"
        },
        "id": "V5je06Ab2i_S",
        "outputId": "43217306-989a-4587-a638-ca056bd6db5e"
      },
      "execution_count": 19,
      "outputs": [
        {
          "output_type": "execute_result",
          "data": {
            "text/plain": [
              "['Shivam', 'Hari']"
            ]
          },
          "metadata": {},
          "execution_count": 19
        }
      ]
    },
    {
      "cell_type": "code",
      "source": [],
      "metadata": {
        "id": "4Ko_sBn568Gl"
      },
      "execution_count": 19,
      "outputs": []
    },
    {
      "cell_type": "code",
      "source": [
        "a=input('Enter trainer name ')\n",
        "b=input('Enter trainer track ')\n",
        "print('The trainer',a,'is taking',b,'session')\n",
        "print('The trainer {} is taking {} session'.format(a,b))\n",
        "print(f\"The trainer {a} is taking {b} session\")\n",
        "print('The trainer '+a+'is taking '+b+' session')"
      ],
      "metadata": {
        "colab": {
          "base_uri": "https://localhost:8080/"
        },
        "id": "dPBlEdh12stq",
        "outputId": "7b3f47eb-cc5d-4dcc-e8e8-bf7cf9a87cc5"
      },
      "execution_count": 20,
      "outputs": [
        {
          "output_type": "stream",
          "name": "stdout",
          "text": [
            "Enter trainer name Hari\n",
            "Enter trainer track AI\n",
            "The trainer Hari is taking AI session\n",
            "The trainer Hari is taking AI session\n",
            "The trainer Hari is taking AI session\n",
            "The trainer Hariis taking AI session\n"
          ]
        }
      ]
    },
    {
      "cell_type": "code",
      "source": [
        "a=int(input('Enter a value '))\n",
        "if a>9:\n",
        "  print('{} is the User input'.format(a))\n",
        "elif a==9:\n",
        "  print('a is equal to 9')\n",
        "else:\n",
        "  print(a)"
      ],
      "metadata": {
        "colab": {
          "base_uri": "https://localhost:8080/"
        },
        "id": "diSOIDUa6ad9",
        "outputId": "0ba5e454-e9ed-4487-8333-d3e34585bcc0"
      },
      "execution_count": 21,
      "outputs": [
        {
          "output_type": "stream",
          "name": "stdout",
          "text": [
            "Enter a value 8\n",
            "8\n"
          ]
        }
      ]
    },
    {
      "cell_type": "code",
      "source": [
        "a=int(input('Enter a value '))\n",
        "if a>9:\n",
        "  print('a is greater than 9')\n",
        "elif a==9:\n",
        "  print('a is equal to 9')\n",
        "else:\n",
        "  print('a is lesser than 9')"
      ],
      "metadata": {
        "colab": {
          "base_uri": "https://localhost:8080/"
        },
        "id": "0P2OIkmB7Fio",
        "outputId": "a2892f03-64a8-4dde-b0bb-9d85e7d8bd46"
      },
      "execution_count": 22,
      "outputs": [
        {
          "output_type": "stream",
          "name": "stdout",
          "text": [
            "Enter a value 8\n",
            "a is lesser than 9\n"
          ]
        }
      ]
    },
    {
      "cell_type": "code",
      "source": [
        "for i in range(10):\n",
        "  print(i)"
      ],
      "metadata": {
        "colab": {
          "base_uri": "https://localhost:8080/"
        },
        "id": "HfFu04Q57nxu",
        "outputId": "47bce10d-d1b9-4966-a14b-4ac3a0f463d5"
      },
      "execution_count": 23,
      "outputs": [
        {
          "output_type": "stream",
          "name": "stdout",
          "text": [
            "0\n",
            "1\n",
            "2\n",
            "3\n",
            "4\n",
            "5\n",
            "6\n",
            "7\n",
            "8\n",
            "9\n"
          ]
        }
      ]
    },
    {
      "cell_type": "code",
      "source": [
        "for i in range(0,10):\n",
        "  if i==4:\n",
        "    break\n",
        "  print(i)"
      ],
      "metadata": {
        "colab": {
          "base_uri": "https://localhost:8080/"
        },
        "id": "KIL7wAVJ8-Uz",
        "outputId": "2f64c716-3b06-4a71-b2b2-b14f246704ce"
      },
      "execution_count": 24,
      "outputs": [
        {
          "output_type": "stream",
          "name": "stdout",
          "text": [
            "0\n",
            "1\n",
            "2\n",
            "3\n"
          ]
        }
      ]
    },
    {
      "cell_type": "code",
      "source": [
        "for i in 'Hari':  \n",
        "  print(i)"
      ],
      "metadata": {
        "colab": {
          "base_uri": "https://localhost:8080/"
        },
        "id": "njs96ndgCFtQ",
        "outputId": "e09eb8a3-b608-45b9-861a-d880ce881e6c"
      },
      "execution_count": 25,
      "outputs": [
        {
          "output_type": "stream",
          "name": "stdout",
          "text": [
            "H\n",
            "a\n",
            "r\n",
            "i\n"
          ]
        }
      ]
    },
    {
      "cell_type": "code",
      "source": [
        "# Break, Continue, Pass\n",
        "for i in range(10,30):\n",
        "  if i==14:\n",
        "    continue\n",
        "  elif i==20:\n",
        "    pass\n",
        "  else:\n",
        "    print(i)"
      ],
      "metadata": {
        "colab": {
          "base_uri": "https://localhost:8080/"
        },
        "id": "SFoz5BE5CNXX",
        "outputId": "2fa532f6-ac02-45e4-939a-69db11fbeb34"
      },
      "execution_count": 26,
      "outputs": [
        {
          "output_type": "stream",
          "name": "stdout",
          "text": [
            "10\n",
            "11\n",
            "12\n",
            "13\n",
            "15\n",
            "16\n",
            "17\n",
            "18\n",
            "19\n",
            "21\n",
            "22\n",
            "23\n",
            "24\n",
            "25\n",
            "26\n",
            "27\n",
            "28\n",
            "29\n"
          ]
        }
      ]
    },
    {
      "cell_type": "code",
      "source": [
        "a=0\n",
        "while a<4:\n",
        "  a=a+1\n",
        "  print(a)"
      ],
      "metadata": {
        "colab": {
          "base_uri": "https://localhost:8080/"
        },
        "id": "3NvRUTmpBpTR",
        "outputId": "9a2f20fb-2934-4e8e-c0ea-04ece9728d56"
      },
      "execution_count": 27,
      "outputs": [
        {
          "output_type": "stream",
          "name": "stdout",
          "text": [
            "1\n",
            "2\n",
            "3\n",
            "4\n"
          ]
        }
      ]
    },
    {
      "cell_type": "code",
      "source": [
        "a=0\n",
        "while a<4:\n",
        "  a+=1\n",
        "  print(a)"
      ],
      "metadata": {
        "colab": {
          "base_uri": "https://localhost:8080/"
        },
        "id": "Yy7L3Dx9B-zm",
        "outputId": "50df3eec-b184-4ef8-fa45-0408c62d25d2"
      },
      "execution_count": 28,
      "outputs": [
        {
          "output_type": "stream",
          "name": "stdout",
          "text": [
            "1\n",
            "2\n",
            "3\n",
            "4\n"
          ]
        }
      ]
    },
    {
      "cell_type": "code",
      "source": [
        "# function ------- def functionName(args):\n",
        "#                     return output\n",
        "def add(a,b):\n",
        "  c = a+b\n",
        "  return c"
      ],
      "metadata": {
        "id": "TIwf97bo9Ioj"
      },
      "execution_count": 29,
      "outputs": []
    },
    {
      "cell_type": "code",
      "source": [
        "add(4,9)"
      ],
      "metadata": {
        "colab": {
          "base_uri": "https://localhost:8080/"
        },
        "id": "IvkzX9N8ByUC",
        "outputId": "5b6935cb-8a6d-4e38-97f0-86b077be7877"
      },
      "execution_count": 30,
      "outputs": [
        {
          "output_type": "execute_result",
          "data": {
            "text/plain": [
              "13"
            ]
          },
          "metadata": {},
          "execution_count": 30
        }
      ]
    },
    {
      "cell_type": "code",
      "source": [
        "# lambda function ---->syntax----> lambda args:exp\n",
        "# we can give single expression/operation\n",
        "a = lambda x,y:x*y\n",
        "a(2,3) # give x & y values"
      ],
      "metadata": {
        "colab": {
          "base_uri": "https://localhost:8080/"
        },
        "id": "5x7VcVZICtt0",
        "outputId": "e879ac87-d390-4725-ca91-b55242ed3dda"
      },
      "execution_count": 31,
      "outputs": [
        {
          "output_type": "execute_result",
          "data": {
            "text/plain": [
              "6"
            ]
          },
          "metadata": {},
          "execution_count": 31
        }
      ]
    },
    {
      "cell_type": "code",
      "source": [
        "b = lambda x,y,a,b:(a+b)-(x+y) # (a+b)-(x+y) is a single expression\n",
        "b(2,4,6,8)"
      ],
      "metadata": {
        "colab": {
          "base_uri": "https://localhost:8080/"
        },
        "id": "NvDu-j4tEkvi",
        "outputId": "481b14ff-a085-4d2d-d887-3fd763fca64a"
      },
      "execution_count": 32,
      "outputs": [
        {
          "output_type": "execute_result",
          "data": {
            "text/plain": [
              "8"
            ]
          },
          "metadata": {},
          "execution_count": 32
        }
      ]
    },
    {
      "cell_type": "code",
      "source": [
        "# List comprehension\n",
        "l1 = ['Hari','Mahi','Shivani','Mohan','Das','Das','Mohan']\n",
        "l1"
      ],
      "metadata": {
        "colab": {
          "base_uri": "https://localhost:8080/"
        },
        "id": "GXVOcBp1EwAn",
        "outputId": "7acb3226-9552-4e29-a7b3-58c348520af3"
      },
      "execution_count": 33,
      "outputs": [
        {
          "output_type": "execute_result",
          "data": {
            "text/plain": [
              "['Hari', 'Mahi', 'Shivani', 'Mohan', 'Das', 'Das', 'Mohan']"
            ]
          },
          "metadata": {},
          "execution_count": 33
        }
      ]
    },
    {
      "cell_type": "code",
      "source": [
        "#Syntax ---> newlist=[exp for i in iterable if condition == True]\n",
        "\n",
        "l2 = ['Mohandas' if i == 'Das' else i for i in l1]\n",
        "l2"
      ],
      "metadata": {
        "colab": {
          "base_uri": "https://localhost:8080/"
        },
        "id": "F9-xpGpNHcfO",
        "outputId": "48e1d052-a91e-4cff-ed0e-f27b8f1b4d82"
      },
      "execution_count": 34,
      "outputs": [
        {
          "output_type": "execute_result",
          "data": {
            "text/plain": [
              "['Hari', 'Mahi', 'Shivani', 'Mohan', 'Mohandas', 'Mohandas', 'Mohan']"
            ]
          },
          "metadata": {},
          "execution_count": 34
        }
      ]
    }
  ]
}