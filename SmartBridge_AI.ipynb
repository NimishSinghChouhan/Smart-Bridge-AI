{
  "nbformat": 4,
  "nbformat_minor": 0,
  "metadata": {
    "colab": {
      "provenance": [],
      "authorship_tag": "ABX9TyPsf2e8aXg1jEX+PhoBc90q",
      "include_colab_link": true
    },
    "kernelspec": {
      "name": "python3",
      "display_name": "Python 3"
    },
    "language_info": {
      "name": "python"
    }
  },
  "cells": [
    {
      "cell_type": "markdown",
      "metadata": {
        "id": "view-in-github",
        "colab_type": "text"
      },
      "source": [
        "<a href=\"https://colab.research.google.com/github/NimishSinghChouhan/Smart-Bridge-AI/blob/main/SmartBridge_AI.ipynb\" target=\"_parent\"><img src=\"https://colab.research.google.com/assets/colab-badge.svg\" alt=\"Open In Colab\"/></a>"
      ]
    },
    {
      "cell_type": "code",
      "execution_count": null,
      "metadata": {
        "colab": {
          "base_uri": "https://localhost:8080/"
        },
        "id": "Q7SQ-eA3wYe9",
        "outputId": "fff936e0-c0a4-4f04-e1e1-6a339adc3764"
      },
      "outputs": [
        {
          "output_type": "execute_result",
          "data": {
            "text/plain": [
              "{1: 'Hari', 2: 'Smartbridge', 3: 'VIT'}"
            ]
          },
          "metadata": {},
          "execution_count": 2
        }
      ],
      "source": [
        "# Dictionary [values],(values),{values},{key:values}\n",
        "# After colon we have values\n",
        "dict_1 = {1:'Hari',\n",
        "          2:'Smartbridge',\n",
        "          3:'VIT'}\n",
        "dict_1"
      ]
    },
    {
      "cell_type": "code",
      "source": [
        "type(dict_1)"
      ],
      "metadata": {
        "colab": {
          "base_uri": "https://localhost:8080/"
        },
        "id": "nKHjQs7zw6kW",
        "outputId": "d1d59a7e-fc45-44a7-dd5b-2c6de2dd9d3e"
      },
      "execution_count": null,
      "outputs": [
        {
          "output_type": "execute_result",
          "data": {
            "text/plain": [
              "dict"
            ]
          },
          "metadata": {},
          "execution_count": 3
        }
      ]
    },
    {
      "cell_type": "code",
      "source": [
        "set1={'Hari','Smartbridge','VIT'}\n",
        "set1\n"
      ],
      "metadata": {
        "colab": {
          "base_uri": "https://localhost:8080/"
        },
        "id": "zJuvlTfYw-Ta",
        "outputId": "228f0b8a-efb0-47ea-90af-41b77ed231e9"
      },
      "execution_count": null,
      "outputs": [
        {
          "output_type": "execute_result",
          "data": {
            "text/plain": [
              "{'Hari', 'Smartbridge', 'VIT'}"
            ]
          },
          "metadata": {},
          "execution_count": 5
        }
      ]
    },
    {
      "cell_type": "code",
      "source": [
        "type(set1)"
      ],
      "metadata": {
        "colab": {
          "base_uri": "https://localhost:8080/"
        },
        "id": "bc2ZqsO4xUIu",
        "outputId": "69235956-3715-463f-ac67-04404e5c74b8"
      },
      "execution_count": null,
      "outputs": [
        {
          "output_type": "execute_result",
          "data": {
            "text/plain": [
              "set"
            ]
          },
          "metadata": {},
          "execution_count": 6
        }
      ]
    },
    {
      "cell_type": "code",
      "source": [
        "dict_1 = {1:['Hari', 'Dev'],        #Only 1 key can be assigned\n",
        "          2:'Smartbridge',\n",
        "          3:'VIT'}\n",
        "dict_1"
      ],
      "metadata": {
        "colab": {
          "base_uri": "https://localhost:8080/"
        },
        "id": "qg5NQiJZxX4F",
        "outputId": "9f29c8c2-25d8-4cf1-db86-51cdaf5492a4"
      },
      "execution_count": null,
      "outputs": [
        {
          "output_type": "execute_result",
          "data": {
            "text/plain": [
              "{1: ['Hari', 'Dev'], 2: 'Smartbridge', 3: 'VIT'}"
            ]
          },
          "metadata": {},
          "execution_count": 18
        }
      ]
    },
    {
      "cell_type": "code",
      "source": [
        "dict_1.keys()"
      ],
      "metadata": {
        "colab": {
          "base_uri": "https://localhost:8080/"
        },
        "id": "5Zr5_IKoxpkZ",
        "outputId": "f8153202-1b0f-4da7-c082-71f0ccf8eefb"
      },
      "execution_count": null,
      "outputs": [
        {
          "output_type": "execute_result",
          "data": {
            "text/plain": [
              "dict_keys([1, 2, 3])"
            ]
          },
          "metadata": {},
          "execution_count": 19
        }
      ]
    },
    {
      "cell_type": "code",
      "source": [
        "dict_1.values()"
      ],
      "metadata": {
        "colab": {
          "base_uri": "https://localhost:8080/"
        },
        "id": "v9eb9U0hzNmO",
        "outputId": "c3b78e50-3c43-4a2c-8729-2f58f4f29cca"
      },
      "execution_count": null,
      "outputs": [
        {
          "output_type": "execute_result",
          "data": {
            "text/plain": [
              "dict_values([['Hari', 'Dev'], 'Smartbridge', 'VIT'])"
            ]
          },
          "metadata": {},
          "execution_count": 20
        }
      ]
    },
    {
      "cell_type": "code",
      "source": [
        "dict_1.items()"
      ],
      "metadata": {
        "colab": {
          "base_uri": "https://localhost:8080/"
        },
        "id": "kybt62kezTuY",
        "outputId": "4c830a09-e8fc-41f3-98d1-7caaa9305934"
      },
      "execution_count": null,
      "outputs": [
        {
          "output_type": "execute_result",
          "data": {
            "text/plain": [
              "dict_items([(1, ['Hari', 'Dev']), (2, 'Smartbridge'), (3, 'VIT')])"
            ]
          },
          "metadata": {},
          "execution_count": 21
        }
      ]
    },
    {
      "cell_type": "code",
      "source": [
        "dict_1[1]"
      ],
      "metadata": {
        "colab": {
          "base_uri": "https://localhost:8080/"
        },
        "id": "oaH3M8lzzrsW",
        "outputId": "045ec06f-4c8b-4691-d9a3-526233ccf83f"
      },
      "execution_count": null,
      "outputs": [
        {
          "output_type": "execute_result",
          "data": {
            "text/plain": [
              "['Hari', 'Dev']"
            ]
          },
          "metadata": {},
          "execution_count": 14
        }
      ]
    },
    {
      "cell_type": "code",
      "source": [
        "dict_1[1]='Mahi'"
      ],
      "metadata": {
        "id": "MywRlMAiz0Si"
      },
      "execution_count": null,
      "outputs": []
    },
    {
      "cell_type": "code",
      "source": [
        "dict_1"
      ],
      "metadata": {
        "colab": {
          "base_uri": "https://localhost:8080/"
        },
        "id": "0KCptdGE0Izt",
        "outputId": "60b900ad-ab2f-447b-dc58-ccd3acb4ae91"
      },
      "execution_count": null,
      "outputs": [
        {
          "output_type": "execute_result",
          "data": {
            "text/plain": [
              "{1: 'Mahi', 2: 'Smartbridge', 3: 'VIT'}"
            ]
          },
          "metadata": {},
          "execution_count": 23
        }
      ]
    },
    {
      "cell_type": "code",
      "source": [
        "dict_1 ={'Name':['Hari','Dev'],\n",
        "         'Org':'Smartbridge',\n",
        "         'Org':'VIT'}\n",
        "dict_1"
      ],
      "metadata": {
        "colab": {
          "base_uri": "https://localhost:8080/"
        },
        "id": "cYNW5Lzi0Wds",
        "outputId": "8853336a-5ece-401b-a154-753c160f8d3a"
      },
      "execution_count": null,
      "outputs": [
        {
          "output_type": "execute_result",
          "data": {
            "text/plain": [
              "{'Name': ['Hari', 'Dev'], 'Org': 'VIT'}"
            ]
          },
          "metadata": {},
          "execution_count": 24
        }
      ]
    },
    {
      "cell_type": "code",
      "source": [
        "dict_1 ={'Name':['Hari','Dev','Saumya','Shivam','Hari'],\n",
        "         'Org':'Smartbridge',\n",
        "         'Org':'VIT'}\n",
        "\n",
        "dict_1"
      ],
      "metadata": {
        "colab": {
          "base_uri": "https://localhost:8080/"
        },
        "id": "wSeWdnbN1CEb",
        "outputId": "d48368f7-12ea-4dee-e090-4e70ea640081"
      },
      "execution_count": null,
      "outputs": [
        {
          "output_type": "execute_result",
          "data": {
            "text/plain": [
              "{'Name': ['Hari', 'Dev', 'Saumya', 'Shivam', 'Hari'], 'Org': 'VIT'}"
            ]
          },
          "metadata": {},
          "execution_count": 25
        }
      ]
    },
    {
      "cell_type": "code",
      "source": [
        "type(dict_1['Name'])"
      ],
      "metadata": {
        "colab": {
          "base_uri": "https://localhost:8080/"
        },
        "id": "d6KbeLmI199H",
        "outputId": "10b81809-1d99-4819-d84b-cdc4ad1d49d1"
      },
      "execution_count": null,
      "outputs": [
        {
          "output_type": "execute_result",
          "data": {
            "text/plain": [
              "list"
            ]
          },
          "metadata": {},
          "execution_count": 27
        }
      ]
    },
    {
      "cell_type": "code",
      "source": [
        "dict_1['Name'][1:4]"
      ],
      "metadata": {
        "colab": {
          "base_uri": "https://localhost:8080/"
        },
        "id": "g3gRm63_2EBD",
        "outputId": "38dbb7f7-44b6-4ed1-c471-07e8b642014b"
      },
      "execution_count": null,
      "outputs": [
        {
          "output_type": "execute_result",
          "data": {
            "text/plain": [
              "['Dev', 'Saumya', 'Shivam']"
            ]
          },
          "metadata": {},
          "execution_count": 29
        }
      ]
    },
    {
      "cell_type": "code",
      "source": [
        "dict_1['Name'][-2:]"
      ],
      "metadata": {
        "colab": {
          "base_uri": "https://localhost:8080/"
        },
        "id": "V5je06Ab2i_S",
        "outputId": "3aa3230c-e83e-4a8e-832b-8244fcdbbefa"
      },
      "execution_count": null,
      "outputs": [
        {
          "output_type": "execute_result",
          "data": {
            "text/plain": [
              "['Shivam', 'Hari']"
            ]
          },
          "metadata": {},
          "execution_count": 31
        }
      ]
    },
    {
      "cell_type": "code",
      "source": [],
      "metadata": {
        "id": "4Ko_sBn568Gl"
      },
      "execution_count": null,
      "outputs": []
    }
  ]
}